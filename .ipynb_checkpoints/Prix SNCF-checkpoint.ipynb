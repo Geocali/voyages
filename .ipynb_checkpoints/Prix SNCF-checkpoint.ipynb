{
 "cells": [
  {
   "cell_type": "code",
   "execution_count": 29,
   "metadata": {
    "collapsed": false
   },
   "outputs": [],
   "source": [
    "from selenium import webdriver\n",
    "from selenium.webdriver.common.keys import Keys\n",
    "from selenium.webdriver.common.by import By\n",
    "from selenium.webdriver.support.ui import WebDriverWait\n",
    "from selenium.webdriver.support import expected_conditions as EC\n",
    "from selenium.common.exceptions import TimeoutException\n",
    "import pandas as pd\n",
    "import sys\n",
    "import datetime\n",
    "from pathlib import Path\n",
    "\n",
    "#from page_class import page_class\n",
    "\n"
   ]
  },
  {
   "cell_type": "code",
   "execution_count": 30,
   "metadata": {
    "collapsed": false
   },
   "outputs": [],
   "source": [
    "global driver\n",
    "driver = webdriver.Firefox()\n"
   ]
  },
  {
   "cell_type": "markdown",
   "metadata": {},
   "source": [
    "on crée la requête url"
   ]
  },
  {
   "cell_type": "code",
   "execution_count": 31,
   "metadata": {
    "collapsed": false
   },
   "outputs": [
    {
     "data": {
      "text/plain": [
       "'https://www.voyages-sncf.com/billet-train?PASSENGER_1_CARD_BIRTH_DATE=& _AGENCY=VSC&DESTINATION_CITY_CHECK=&PASSENGER_2_CARD_NUMBER=&PASSENGER_1FID_NUM_BEGIN=&OUTWARD_DATE=21%2F09%2F2017&TRAVEL_TYPE=AR&ORIGIN_CITY=Paris+%28Toutes+gares+intramuros%29&OUTWARD_SCHEDULE_TYPE=DEPARTURE_FROM&_LANG=fr&PASSENGER_2_FID_PROG=&PASSENGER_1_CARD=WEEKE&ORIGIN_CITY_RR_CODE=&INWARD_TIME=18&ORIGIN_CITY_CHECK=&CODE_PROMO_2=&INWARD_DATE=23%2F09%2F2030&PASSENGER_2_CARD=NONE&DESTINATION_CITY=Marseille&PASSENGER_1=ADULT&PASSENGER_2=ADULT&COMFORT_CLASS=2&OUTWARD_TIME=17&DISTRIBUTED_COUNTRY=FR&DESTINATION_CITY_RR_CODE=&SOURCE=VSD&PASSENGER_1_CARD_NUMBER=&PASSENGER_1_FID_PROG=&PASSENGER_2FID_NUM_BEGIN=&CODE_PROMO_1=&PASSENGER_2_CARD_BIRTH_DATE='"
      ]
     },
     "execution_count": 31,
     "metadata": {},
     "output_type": "execute_result"
    }
   ],
   "source": [
    "city_start = \"Paris+%28Toutes+gares+intramuros%29\"\n",
    "city_stop = \"Marseille\"\n",
    "time_go = \"17\"\n",
    "time_back = \"18\"\n",
    "date_go = \"21%2F09%2F2017\"\n",
    "date_back = \"23%2F09%2F2030\"\n",
    "\n",
    "url = \"https://www.voyages-sncf.com/billet-train?PASSENGER_1_CARD_BIRTH_DATE=& \\\n",
    "_AGENCY=VSC&\\\n",
    "DESTINATION_CITY_CHECK=&\\\n",
    "PASSENGER_2_CARD_NUMBER=&\\\n",
    "PASSENGER_1FID_NUM_BEGIN=&\\\n",
    "OUTWARD_DATE=\" + date_go + \"&\\\n",
    "TRAVEL_TYPE=AR&ORIGIN_CITY=\" + city_start + \"&\\\n",
    "OUTWARD_SCHEDULE_TYPE=DEPARTURE_FROM&\\\n",
    "_LANG=fr&PASSENGER_2_FID_PROG=&\\\n",
    "PASSENGER_1_CARD=WEEKE&\\\n",
    "ORIGIN_CITY_RR_CODE=&\\\n",
    "INWARD_TIME=\" + time_back + \"&\\\n",
    "ORIGIN_CITY_CHECK=&\\\n",
    "CODE_PROMO_2=&\\\n",
    "INWARD_DATE=\" + date_back + \"&\\\n",
    "PASSENGER_2_CARD=NONE&\\\n",
    "DESTINATION_CITY=\" + city_stop + \"&\\\n",
    "PASSENGER_1=ADULT&\\\n",
    "PASSENGER_2=ADULT&\\\n",
    "COMFORT_CLASS=2&\\\n",
    "OUTWARD_TIME=\" + time_go + \"&\\\n",
    "DISTRIBUTED_COUNTRY=FR&\\\n",
    "DESTINATION_CITY_RR_CODE=&\\\n",
    "SOURCE=VSD&\\\n",
    "PASSENGER_1_CARD_NUMBER=&\\\n",
    "PASSENGER_1_FID_PROG=&\\\n",
    "PASSENGER_2FID_NUM_BEGIN=&\\\n",
    "CODE_PROMO_1=&\\\n",
    "PASSENGER_2_CARD_BIRTH_DATE=\"\n",
    "\n",
    "\n",
    "url"
   ]
  },
  {
   "cell_type": "code",
   "execution_count": 32,
   "metadata": {
    "collapsed": false
   },
   "outputs": [],
   "source": [
    "page = driver.get(url)"
   ]
  },
  {
   "cell_type": "markdown",
   "metadata": {},
   "source": [
    "on clique sur le bouton qui lance la recherche"
   ]
  },
  {
   "cell_type": "code",
   "execution_count": 33,
   "metadata": {
    "collapsed": true
   },
   "outputs": [],
   "source": [
    "xpath = \"/html/body/div[3]/div[3]/div/div/div[1]/div/div[1]/div[1]/div/div[2]/div[1]/div/div[3]/form/fieldset[3]/input[1]\"\n",
    "elem = driver.find_element_by_xpath(xpath)\n",
    "elem.click()"
   ]
  },
  {
   "cell_type": "markdown",
   "metadata": {},
   "source": [
    "on attend les résultats de la recherche"
   ]
  },
  {
   "cell_type": "code",
   "execution_count": 34,
   "metadata": {
    "collapsed": false
   },
   "outputs": [
    {
     "name": "stdout",
     "output_type": "stream",
     "text": [
      "Page is ready!\n"
     ]
    }
   ],
   "source": [
    "delay = 20 # seconds\n",
    "xpath_header = \"/html/body/div[2]/div[3]/main/section/vsd-app[1]/div/div[1]/div/search-results-page/div/main/div[2]/div[2]/div/div/vsd-proposals-block/div/div[2]/div/proposal-header/div\"\n",
    "try:\n",
    "    myElem = WebDriverWait(driver, delay).until(EC.presence_of_element_located((By.XPATH, xpath_header)))\n",
    "    print(\"Page is ready!\")\n",
    "except TimeoutException:\n",
    "    print(\"Loading took too much time!\")\n",
    "\n"
   ]
  },
  {
   "cell_type": "markdown",
   "metadata": {},
   "source": [
    "On clique sur le bouton \"voir plus\" pour voir tous les trains suivants"
   ]
  },
  {
   "cell_type": "code",
   "execution_count": 35,
   "metadata": {
    "collapsed": false
   },
   "outputs": [
    {
     "ename": "ElementNotInteractableException",
     "evalue": "Message: \n",
     "output_type": "error",
     "traceback": [
      "\u001b[0;31m---------------------------------------------------------------------------\u001b[0m",
      "\u001b[0;31mElementNotInteractableException\u001b[0m           Traceback (most recent call last)",
      "\u001b[0;32m<ipython-input-35-476aa95ab005>\u001b[0m in \u001b[0;36m<module>\u001b[0;34m()\u001b[0m\n\u001b[1;32m      3\u001b[0m \u001b[1;31m#elem = driver.find_element_by_class_name(\"btn-link next-btn\")\u001b[0m\u001b[1;33m\u001b[0m\u001b[1;33m\u001b[0m\u001b[0m\n\u001b[1;32m      4\u001b[0m \u001b[0melem\u001b[0m \u001b[1;33m=\u001b[0m \u001b[0mdriver\u001b[0m\u001b[1;33m.\u001b[0m\u001b[0mfind_element_by_xpath\u001b[0m\u001b[1;33m(\u001b[0m\u001b[0mxpath_more\u001b[0m\u001b[1;33m)\u001b[0m\u001b[1;33m\u001b[0m\u001b[0m\n\u001b[0;32m----> 5\u001b[0;31m \u001b[0melem\u001b[0m\u001b[1;33m.\u001b[0m\u001b[0mclick\u001b[0m\u001b[1;33m(\u001b[0m\u001b[1;33m)\u001b[0m\u001b[1;33m\u001b[0m\u001b[0m\n\u001b[0m",
      "\u001b[0;32mC:\\ProgramData\\Anaconda3\\lib\\site-packages\\selenium\\webdriver\\remote\\webelement.py\u001b[0m in \u001b[0;36mclick\u001b[0;34m(self)\u001b[0m\n\u001b[1;32m     75\u001b[0m     \u001b[1;32mdef\u001b[0m \u001b[0mclick\u001b[0m\u001b[1;33m(\u001b[0m\u001b[0mself\u001b[0m\u001b[1;33m)\u001b[0m\u001b[1;33m:\u001b[0m\u001b[1;33m\u001b[0m\u001b[0m\n\u001b[1;32m     76\u001b[0m         \u001b[1;34m\"\"\"Clicks the element.\"\"\"\u001b[0m\u001b[1;33m\u001b[0m\u001b[0m\n\u001b[0;32m---> 77\u001b[0;31m         \u001b[0mself\u001b[0m\u001b[1;33m.\u001b[0m\u001b[0m_execute\u001b[0m\u001b[1;33m(\u001b[0m\u001b[0mCommand\u001b[0m\u001b[1;33m.\u001b[0m\u001b[0mCLICK_ELEMENT\u001b[0m\u001b[1;33m)\u001b[0m\u001b[1;33m\u001b[0m\u001b[0m\n\u001b[0m\u001b[1;32m     78\u001b[0m \u001b[1;33m\u001b[0m\u001b[0m\n\u001b[1;32m     79\u001b[0m     \u001b[1;32mdef\u001b[0m \u001b[0msubmit\u001b[0m\u001b[1;33m(\u001b[0m\u001b[0mself\u001b[0m\u001b[1;33m)\u001b[0m\u001b[1;33m:\u001b[0m\u001b[1;33m\u001b[0m\u001b[0m\n",
      "\u001b[0;32mC:\\ProgramData\\Anaconda3\\lib\\site-packages\\selenium\\webdriver\\remote\\webelement.py\u001b[0m in \u001b[0;36m_execute\u001b[0;34m(self, command, params)\u001b[0m\n\u001b[1;32m    491\u001b[0m             \u001b[0mparams\u001b[0m \u001b[1;33m=\u001b[0m \u001b[1;33m{\u001b[0m\u001b[1;33m}\u001b[0m\u001b[1;33m\u001b[0m\u001b[0m\n\u001b[1;32m    492\u001b[0m         \u001b[0mparams\u001b[0m\u001b[1;33m[\u001b[0m\u001b[1;34m'id'\u001b[0m\u001b[1;33m]\u001b[0m \u001b[1;33m=\u001b[0m \u001b[0mself\u001b[0m\u001b[1;33m.\u001b[0m\u001b[0m_id\u001b[0m\u001b[1;33m\u001b[0m\u001b[0m\n\u001b[0;32m--> 493\u001b[0;31m         \u001b[1;32mreturn\u001b[0m \u001b[0mself\u001b[0m\u001b[1;33m.\u001b[0m\u001b[0m_parent\u001b[0m\u001b[1;33m.\u001b[0m\u001b[0mexecute\u001b[0m\u001b[1;33m(\u001b[0m\u001b[0mcommand\u001b[0m\u001b[1;33m,\u001b[0m \u001b[0mparams\u001b[0m\u001b[1;33m)\u001b[0m\u001b[1;33m\u001b[0m\u001b[0m\n\u001b[0m\u001b[1;32m    494\u001b[0m \u001b[1;33m\u001b[0m\u001b[0m\n\u001b[1;32m    495\u001b[0m     \u001b[1;32mdef\u001b[0m \u001b[0mfind_element\u001b[0m\u001b[1;33m(\u001b[0m\u001b[0mself\u001b[0m\u001b[1;33m,\u001b[0m \u001b[0mby\u001b[0m\u001b[1;33m=\u001b[0m\u001b[0mBy\u001b[0m\u001b[1;33m.\u001b[0m\u001b[0mID\u001b[0m\u001b[1;33m,\u001b[0m \u001b[0mvalue\u001b[0m\u001b[1;33m=\u001b[0m\u001b[1;32mNone\u001b[0m\u001b[1;33m)\u001b[0m\u001b[1;33m:\u001b[0m\u001b[1;33m\u001b[0m\u001b[0m\n",
      "\u001b[0;32mC:\\ProgramData\\Anaconda3\\lib\\site-packages\\selenium\\webdriver\\remote\\webdriver.py\u001b[0m in \u001b[0;36mexecute\u001b[0;34m(self, driver_command, params)\u001b[0m\n\u001b[1;32m    254\u001b[0m         \u001b[0mresponse\u001b[0m \u001b[1;33m=\u001b[0m \u001b[0mself\u001b[0m\u001b[1;33m.\u001b[0m\u001b[0mcommand_executor\u001b[0m\u001b[1;33m.\u001b[0m\u001b[0mexecute\u001b[0m\u001b[1;33m(\u001b[0m\u001b[0mdriver_command\u001b[0m\u001b[1;33m,\u001b[0m \u001b[0mparams\u001b[0m\u001b[1;33m)\u001b[0m\u001b[1;33m\u001b[0m\u001b[0m\n\u001b[1;32m    255\u001b[0m         \u001b[1;32mif\u001b[0m \u001b[0mresponse\u001b[0m\u001b[1;33m:\u001b[0m\u001b[1;33m\u001b[0m\u001b[0m\n\u001b[0;32m--> 256\u001b[0;31m             \u001b[0mself\u001b[0m\u001b[1;33m.\u001b[0m\u001b[0merror_handler\u001b[0m\u001b[1;33m.\u001b[0m\u001b[0mcheck_response\u001b[0m\u001b[1;33m(\u001b[0m\u001b[0mresponse\u001b[0m\u001b[1;33m)\u001b[0m\u001b[1;33m\u001b[0m\u001b[0m\n\u001b[0m\u001b[1;32m    257\u001b[0m             response['value'] = self._unwrap_value(\n\u001b[1;32m    258\u001b[0m                 response.get('value', None))\n",
      "\u001b[0;32mC:\\ProgramData\\Anaconda3\\lib\\site-packages\\selenium\\webdriver\\remote\\errorhandler.py\u001b[0m in \u001b[0;36mcheck_response\u001b[0;34m(self, response)\u001b[0m\n\u001b[1;32m    192\u001b[0m         \u001b[1;32melif\u001b[0m \u001b[0mexception_class\u001b[0m \u001b[1;33m==\u001b[0m \u001b[0mUnexpectedAlertPresentException\u001b[0m \u001b[1;32mand\u001b[0m \u001b[1;34m'alert'\u001b[0m \u001b[1;32min\u001b[0m \u001b[0mvalue\u001b[0m\u001b[1;33m:\u001b[0m\u001b[1;33m\u001b[0m\u001b[0m\n\u001b[1;32m    193\u001b[0m             \u001b[1;32mraise\u001b[0m \u001b[0mexception_class\u001b[0m\u001b[1;33m(\u001b[0m\u001b[0mmessage\u001b[0m\u001b[1;33m,\u001b[0m \u001b[0mscreen\u001b[0m\u001b[1;33m,\u001b[0m \u001b[0mstacktrace\u001b[0m\u001b[1;33m,\u001b[0m \u001b[0mvalue\u001b[0m\u001b[1;33m[\u001b[0m\u001b[1;34m'alert'\u001b[0m\u001b[1;33m]\u001b[0m\u001b[1;33m.\u001b[0m\u001b[0mget\u001b[0m\u001b[1;33m(\u001b[0m\u001b[1;34m'text'\u001b[0m\u001b[1;33m)\u001b[0m\u001b[1;33m)\u001b[0m\u001b[1;33m\u001b[0m\u001b[0m\n\u001b[0;32m--> 194\u001b[0;31m         \u001b[1;32mraise\u001b[0m \u001b[0mexception_class\u001b[0m\u001b[1;33m(\u001b[0m\u001b[0mmessage\u001b[0m\u001b[1;33m,\u001b[0m \u001b[0mscreen\u001b[0m\u001b[1;33m,\u001b[0m \u001b[0mstacktrace\u001b[0m\u001b[1;33m)\u001b[0m\u001b[1;33m\u001b[0m\u001b[0m\n\u001b[0m\u001b[1;32m    195\u001b[0m \u001b[1;33m\u001b[0m\u001b[0m\n\u001b[1;32m    196\u001b[0m     \u001b[1;32mdef\u001b[0m \u001b[0m_value_or_default\u001b[0m\u001b[1;33m(\u001b[0m\u001b[0mself\u001b[0m\u001b[1;33m,\u001b[0m \u001b[0mobj\u001b[0m\u001b[1;33m,\u001b[0m \u001b[0mkey\u001b[0m\u001b[1;33m,\u001b[0m \u001b[0mdefault\u001b[0m\u001b[1;33m)\u001b[0m\u001b[1;33m:\u001b[0m\u001b[1;33m\u001b[0m\u001b[0m\n",
      "\u001b[0;31mElementNotInteractableException\u001b[0m: Message: \n"
     ]
    }
   ],
   "source": [
    "xpath_more = \"/html/body/div[2]/div[3]/main/section/vsd-app[1]/div/div[1]/div/search-results-page/div/main/div[2]/div[2]/div/div/vsd-proposals-block/div/div[2]/div/div[3]/div/button[1]\"\n",
    "\n",
    "#elem = driver.find_element_by_class_name(\"btn-link next-btn\")\n",
    "elem = driver.find_element_by_xpath(xpath_more)\n",
    "elem.click()"
   ]
  },
  {
   "cell_type": "markdown",
   "metadata": {},
   "source": [
    "# Récupération des données des trains"
   ]
  },
  {
   "cell_type": "code",
   "execution_count": null,
   "metadata": {
    "collapsed": false
   },
   "outputs": [],
   "source": [
    "\n",
    "def get_row(driver, row):\n",
    "    driver.delete_all_cookies()\n",
    "    \n",
    "    # on vérifie qu'on n'est pas arrivé au bout\n",
    "    xpath = \"/html/body/div[2]/div[3]/main/section/vsd-app[1]/div/div[1]/div/search-results-page/div/main/div[2]/div[2]/div/div/vsd-proposals-block/div/div[2]/div/vsd-proposal-list/div/div/div[\" + str(row) + \"]\"\n",
    "    try:\n",
    "        elem = driver.find_element_by_xpath(xpath)\n",
    "    except:\n",
    "        raise Exception('My error!')\n",
    "    \n",
    "    # gare de départ\n",
    "    xpath = \"/html/body/div[2]/div[3]/main/section/vsd-app[1]/div/div[1]/div/search-results-page/div/main/div[2]/div[2]/div/div/vsd-proposals-block/div/div[2]/div/vsd-proposal-list/div/div/div[\" + str(row) + \"]/div[1]/div/div[1]/div/div[1]/div[2]/span\"\n",
    "    try:\n",
    "        elem = driver.find_element_by_xpath(xpath)\n",
    "    except:\n",
    "        return None\n",
    "    gare_depart = elem.text\n",
    "\n",
    "    # gare d'arrivée\n",
    "    xpath = \"/html/body/div[2]/div[3]/main/section/vsd-app[1]/div/div[1]/div/search-results-page/div/main/div[2]/div[2]/div/div/vsd-proposals-block/div/div[2]/div/vsd-proposal-list/div/div/div[\" + str(row) + \"]/div[1]/div/div[1]/div/div[2]/div[2]/span\"\n",
    "    elem = driver.find_element_by_xpath(xpath)\n",
    "    gare_arrivee = elem.text\n",
    "\n",
    "    # date départ\n",
    "    xpath = \"/html/body/div[2]/div[3]/main/section/vsd-app[1]/div/div[1]/div/search-results-page/div/main/div[2]/div[2]/div/div/vsd-proposals-block/div/div[2]/div/vsd-proposal-list/div/div/div[\" + str(row) + \"]/div[1]/div/div[1]/div/div[1]/div[1]/time\"\n",
    "    elem = driver.find_element_by_xpath(xpath)\n",
    "    date_depart = elem.get_attribute(\"datetime\")\n",
    "\n",
    "    # date arrivée\n",
    "    xpath = \"/html/body/div[2]/div[3]/main/section/vsd-app[1]/div/div[1]/div/search-results-page/div/main/div[2]/div[2]/div/div/vsd-proposals-block/div/div[2]/div/vsd-proposal-list/div/div/div[\" + str(row) + \"]/div[1]/div/div[1]/div/div[2]/div[1]/time\"\n",
    "    elem = driver.find_element_by_xpath(xpath)\n",
    "    date_arrivee = elem.get_attribute(\"datetime\")\n",
    "\n",
    "    # nombre de correspondances\n",
    "    xpath = \"/html/body/div[2]/div[3]/main/section/vsd-app[1]/div/div[1]/div/search-results-page/div/main/div[2]/div[2]/div/div/vsd-proposals-block/div/div[2]/div/vsd-proposal-list/div/div/div[\" + str(row) + \"]/div[1]/div/div[1]/div/div[3]/div[2]\"\n",
    "    elem = driver.find_element_by_xpath(xpath)\n",
    "    txt_corr = elem.text.split(\"\\n\")[1].split(\" \")[0]\n",
    "    if txt_corr == \"direct\":\n",
    "        nb_corr = 0\n",
    "    else:\n",
    "        nb_corr = int(txt_corr)\n",
    "\n",
    "    # durée\n",
    "    xpath = \"/html/body/div[2]/div[3]/main/section/vsd-app[1]/div/div[1]/div/search-results-page/div/main/div[2]/div[2]/div/div/vsd-proposals-block/div/div[2]/div/vsd-proposal-list/div/div/div[\" + str(row) + \"]/div[1]/div/div[1]/div/div[3]/div[3]/time\"\n",
    "    elem = driver.find_element_by_xpath(xpath)\n",
    "    duree_min = int(elem.text.split(\"h\")[0]) * 60 + int(elem.text.split(\"h\")[1])\n",
    "\n",
    "    # prix billet non modifiable\n",
    "    xpath = \"/html/body/div[2]/div[3]/main/section/vsd-app[1]/div/div[1]/div/search-results-page/div/main/div[2]/div[2]/div/div/vsd-proposals-block/div/div[2]/div/vsd-proposal-list/div/div/div[\" + str(row) + \"]/div[1]/div/div[3]/div[1]/div/button/span\"\n",
    "    try:\n",
    "        elem = driver.find_element_by_xpath(xpath)\n",
    "        prix_non_modif = int(elem.text.split(\",\")[0]) + int(elem.text.split(\",\")[1][:-1])\n",
    "    except:\n",
    "        prix_non_modif = None\n",
    "\n",
    "    # prix billet modifiable sous conditions\n",
    "    xpath = \"/html/body/div[2]/div[3]/main/section/vsd-app[1]/div/div[1]/div/search-results-page/div/main/div[2]/div[2]/div/div/vsd-proposals-block/div/div[2]/div/vsd-proposal-list/div/div/div[\" + str(row) + \"]/div[1]/div/div[3]/div[2]/div/button/span\"\n",
    "    try:\n",
    "        elem = driver.find_element_by_xpath(xpath)\n",
    "        prix_modif_cond = int(elem.text.split(\",\")[0]) + float(elem.text.split(\",\")[1][:-1])/100\n",
    "    except:\n",
    "        prix_modif_cond = None\n",
    "\n",
    "    # prix billet modifiable\n",
    "    xpath = \"/html/body/div[2]/div[3]/main/section/vsd-app[1]/div/div[1]/div/search-results-page/div/main/div[2]/div[2]/div/div/vsd-proposals-block/div/div[2]/div/vsd-proposal-list/div/div/div[\" + str(row) + \"]/div[1]/div/div[3]/div[3]/div/button/span\"\n",
    "    try:\n",
    "        elem = driver.find_element_by_xpath(xpath)\n",
    "        prix_modif = int(elem.text.split(\",\")[0]) + float(elem.text.split(\",\")[1][:-1])/100\n",
    "    except:\n",
    "        prix_modif = None\n",
    "    \n",
    "    c = [\"gare_depart\", \"gare_arrivee\", \"date_depart\", \"date_arrivee\", \"nb_corr\", \"duree_min\", \"prix_non_modif\", \"prix_modif_cond\", \"prix_modif\"]\n",
    "    d = [gare_depart, gare_arrivee, date_depart, date_arrivee, nb_corr, duree_min, prix_non_modif, prix_modif_cond, prix_modif]\n",
    "    df = pd.DataFrame(data=d, index=c)\n",
    "    df.transpose()\n",
    "    \n",
    "    return df"
   ]
  },
  {
   "cell_type": "markdown",
   "metadata": {},
   "source": [
    "# On récupère les prix des billets"
   ]
  },
  {
   "cell_type": "code",
   "execution_count": null,
   "metadata": {
    "collapsed": false
   },
   "outputs": [],
   "source": [
    "\n",
    "dfs = []\n",
    "row = 1\n",
    "continuer = True\n",
    "\n",
    "while continuer:\n",
    "    try:\n",
    "        df_price = get_row(driver, row)\n",
    "        if df_price is not None:\n",
    "            dfs.append(df_price.transpose())\n",
    "        else:\n",
    "            a = 1\n",
    "            #print(\"None\")\n",
    "        #print(row)\n",
    "    except:\n",
    "        continuer = False\n",
    "        #print(\"arf\")\n",
    "\n",
    "    row += 1\n",
    "\n",
    "df_prices = pd.concat(dfs)\n",
    "\n",
    "# on enregistre la date à laquelle on a fait la mesure\n",
    "time = str(datetime.datetime.now()).split(\".\")[0]\n",
    "df_prices['time_checked']=pd.Series(time)"
   ]
  },
  {
   "cell_type": "markdown",
   "metadata": {
    "collapsed": true
   },
   "source": [
    "On enregistre les résultats dans un CSV"
   ]
  },
  {
   "cell_type": "code",
   "execution_count": null,
   "metadata": {
    "collapsed": false
   },
   "outputs": [],
   "source": [
    "fichier = \"sncf_prices.csv\"\n",
    "my_file = Path(fichier)\n",
    "if my_file.is_file():\n",
    "    df_prices.to_csv(fichier, header=False, index=False, mode='a+')\n",
    "else:\n",
    "    df_prices.to_csv(fichier, header=True, index=False, mode='a+')"
   ]
  },
  {
   "cell_type": "markdown",
   "metadata": {},
   "source": [
    "On ferme le driver du navigateur"
   ]
  },
  {
   "cell_type": "code",
   "execution_count": null,
   "metadata": {
    "collapsed": true
   },
   "outputs": [],
   "source": [
    "driver.quit()"
   ]
  },
  {
   "cell_type": "code",
   "execution_count": null,
   "metadata": {
    "collapsed": true
   },
   "outputs": [],
   "source": []
  }
 ],
 "metadata": {
  "kernelspec": {
   "display_name": "Python 3",
   "language": "python",
   "name": "python3"
  },
  "language_info": {
   "codemirror_mode": {
    "name": "ipython",
    "version": 3
   },
   "file_extension": ".py",
   "mimetype": "text/x-python",
   "name": "python",
   "nbconvert_exporter": "python",
   "pygments_lexer": "ipython3",
   "version": "3.6.0"
  }
 },
 "nbformat": 4,
 "nbformat_minor": 2
}
